{
  "nbformat": 4,
  "nbformat_minor": 0,
  "metadata": {
    "colab": {
      "name": "data_visualization1.ipynb",
      "version": "0.3.2",
      "provenance": [],
      "include_colab_link": true
    },
    "kernelspec": {
      "name": "python3",
      "display_name": "Python 3"
    }
  },
  "cells": [
    {
      "cell_type": "markdown",
      "metadata": {
        "id": "view-in-github",
        "colab_type": "text"
      },
      "source": [
        "<a href=\"https://colab.research.google.com/github/khushimittal0108/adhocnw_machinelearning/blob/Data-Processing/data_visualization1.ipynb\" target=\"_parent\"><img src=\"https://colab.research.google.com/assets/colab-badge.svg\" alt=\"Open In Colab\"/></a>"
      ]
    },
    {
      "cell_type": "code",
      "metadata": {
        "id": "LvCkiUM6pkUr",
        "colab_type": "code",
        "colab": {}
      },
      "source": [
        "import matplotlib.pyplot as plt\n",
        "import numpy as np\n",
        "import pandas as pd\n",
        "import csv"
      ],
      "execution_count": 0,
      "outputs": []
    },
    {
      "cell_type": "code",
      "metadata": {
        "id": "k9oc018xqBrk",
        "colab_type": "code",
        "colab": {}
      },
      "source": [
        "a=np.array([[\"student_name\",\"marks\",\"age\",\"contact\",\"study_hours\"],[\"Khushi\",90,19,8615732957,8],[\"Shivani\",45,19,8613654535,9],[\"Sakshi\",70,17,8455234324,10],[\"Lakshita\",60,15,9565454566,4]])"
      ],
      "execution_count": 0,
      "outputs": []
    },
    {
      "cell_type": "code",
      "metadata": {
        "id": "0c3Mtobtrgz8",
        "colab_type": "code",
        "colab": {
          "base_uri": "https://localhost:8080/",
          "height": 101
        },
        "outputId": "6585a4f6-7aeb-4816-832f-a621ba0cb56a"
      },
      "source": [
        "a"
      ],
      "execution_count": 19,
      "outputs": [
        {
          "output_type": "execute_result",
          "data": {
            "text/plain": [
              "array([['student_name', 'marks', 'age', 'contact', 'study_hours'],\n",
              "       ['Khushi', '90', '19', '8615732957', '8'],\n",
              "       ['Shivani', '45', '19', '8613654535', '9'],\n",
              "       ['Sakshi', '70', '17', '8455234324', '10'],\n",
              "       ['Lakshita', '60', '15', '9565454566', '4']], dtype='<U12')"
            ]
          },
          "metadata": {
            "tags": []
          },
          "execution_count": 19
        }
      ]
    },
    {
      "cell_type": "code",
      "metadata": {
        "id": "FTHUHXwbrhj0",
        "colab_type": "code",
        "colab": {}
      },
      "source": [
        "#creating a csv file\n",
        "with open('student.csv','w') as writeFile :\n",
        "  wr=csv.writer(writeFile)\n",
        "  wr.writerows(a)\n",
        "writeFile.close()  "
      ],
      "execution_count": 0,
      "outputs": []
    },
    {
      "cell_type": "code",
      "metadata": {
        "id": "3MbWjBess6nU",
        "colab_type": "code",
        "colab": {}
      },
      "source": [
        "#reding data from csv file\n",
        "df=pd.read_csv('student.csv')"
      ],
      "execution_count": 0,
      "outputs": []
    },
    {
      "cell_type": "code",
      "metadata": {
        "id": "LMNfWsX-tXN6",
        "colab_type": "code",
        "colab": {
          "base_uri": "https://localhost:8080/",
          "height": 166
        },
        "outputId": "08f351c1-5292-4732-b5b2-06398623e6b2"
      },
      "source": [
        "df"
      ],
      "execution_count": 22,
      "outputs": [
        {
          "output_type": "execute_result",
          "data": {
            "text/html": [
              "<div>\n",
              "<style scoped>\n",
              "    .dataframe tbody tr th:only-of-type {\n",
              "        vertical-align: middle;\n",
              "    }\n",
              "\n",
              "    .dataframe tbody tr th {\n",
              "        vertical-align: top;\n",
              "    }\n",
              "\n",
              "    .dataframe thead th {\n",
              "        text-align: right;\n",
              "    }\n",
              "</style>\n",
              "<table border=\"1\" class=\"dataframe\">\n",
              "  <thead>\n",
              "    <tr style=\"text-align: right;\">\n",
              "      <th></th>\n",
              "      <th>student_name</th>\n",
              "      <th>marks</th>\n",
              "      <th>age</th>\n",
              "      <th>contact</th>\n",
              "      <th>study_hours</th>\n",
              "    </tr>\n",
              "  </thead>\n",
              "  <tbody>\n",
              "    <tr>\n",
              "      <th>0</th>\n",
              "      <td>Khushi</td>\n",
              "      <td>90</td>\n",
              "      <td>19</td>\n",
              "      <td>8615732957</td>\n",
              "      <td>8</td>\n",
              "    </tr>\n",
              "    <tr>\n",
              "      <th>1</th>\n",
              "      <td>Shivani</td>\n",
              "      <td>45</td>\n",
              "      <td>19</td>\n",
              "      <td>8613654535</td>\n",
              "      <td>9</td>\n",
              "    </tr>\n",
              "    <tr>\n",
              "      <th>2</th>\n",
              "      <td>Sakshi</td>\n",
              "      <td>70</td>\n",
              "      <td>17</td>\n",
              "      <td>8455234324</td>\n",
              "      <td>10</td>\n",
              "    </tr>\n",
              "    <tr>\n",
              "      <th>3</th>\n",
              "      <td>Lakshita</td>\n",
              "      <td>60</td>\n",
              "      <td>15</td>\n",
              "      <td>9565454566</td>\n",
              "      <td>4</td>\n",
              "    </tr>\n",
              "  </tbody>\n",
              "</table>\n",
              "</div>"
            ],
            "text/plain": [
              "  student_name  marks  age     contact  study_hours\n",
              "0       Khushi     90   19  8615732957            8\n",
              "1      Shivani     45   19  8613654535            9\n",
              "2       Sakshi     70   17  8455234324           10\n",
              "3     Lakshita     60   15  9565454566            4"
            ]
          },
          "metadata": {
            "tags": []
          },
          "execution_count": 22
        }
      ]
    },
    {
      "cell_type": "code",
      "metadata": {
        "id": "MBvLOH2_tZ1k",
        "colab_type": "code",
        "colab": {
          "base_uri": "https://localhost:8080/",
          "height": 185
        },
        "outputId": "5abaa48b-9ceb-4424-9a17-a712565418d0"
      },
      "source": [
        "df.info()"
      ],
      "execution_count": 23,
      "outputs": [
        {
          "output_type": "stream",
          "text": [
            "<class 'pandas.core.frame.DataFrame'>\n",
            "RangeIndex: 4 entries, 0 to 3\n",
            "Data columns (total 5 columns):\n",
            "student_name    4 non-null object\n",
            "marks           4 non-null int64\n",
            "age             4 non-null int64\n",
            "contact         4 non-null int64\n",
            "study_hours     4 non-null int64\n",
            "dtypes: int64(4), object(1)\n",
            "memory usage: 240.0+ bytes\n"
          ],
          "name": "stdout"
        }
      ]
    },
    {
      "cell_type": "code",
      "metadata": {
        "id": "VG72s0WVtelv",
        "colab_type": "code",
        "colab": {
          "base_uri": "https://localhost:8080/",
          "height": 255
        },
        "outputId": "8758a722-b50e-4e01-cf8d-b801c76a306c"
      },
      "source": [
        "#pie chart for marks\n",
        "exp=[0.1,0.2,0,0]\n",
        "plt.pie(df.marks,labels=df.student_name,explode=exp,shadow=True,autopct='%1.1f%%')\n",
        "plt.show()"
      ],
      "execution_count": 24,
      "outputs": [
        {
          "output_type": "display_data",
          "data": {
            "image/png": "[encoded data removed]",
            "text/plain": [
              "<Figure size 432x288 with 1 Axes>"
            ]
          },
          "metadata": {
            "tags": []
          }
        }
      ]
    },
    {
      "cell_type": "code",
      "metadata": {
        "id": "dLaEJCFpv2nW",
        "colab_type": "code",
        "colab": {
          "base_uri": "https://localhost:8080/",
          "height": 255
        },
        "outputId": "1142b780-816f-490c-eb7f-015fa7295401"
      },
      "source": [
        "#pie chart for study hours\n",
        "plt.pie(df.study_hours,labels=df.student_name,explode=exp,shadow=True,autopct='%1.1f%%')\n",
        "plt.show()"
      ],
      "execution_count": 25,
      "outputs": [
        {
          "output_type": "display_data",
          "data": {
            "image/png": "[encoded data removed]",
            "text/plain": [
              "<Figure size 432x288 with 1 Axes>"
            ]
          },
          "metadata": {
            "tags": []
          }
        }
      ]
    }
  ]
}
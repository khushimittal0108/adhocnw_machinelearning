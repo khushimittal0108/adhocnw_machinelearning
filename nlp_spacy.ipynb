{
  "nbformat": 4,
  "nbformat_minor": 0,
  "metadata": {
    "colab": {
      "name": "nlp_spacy.ipynb",
      "version": "0.3.2",
      "provenance": [],
      "collapsed_sections": [],
      "include_colab_link": true
    },
    "kernelspec": {
      "name": "python3",
      "display_name": "Python 3"
    }
  },
  "cells": [
    {
      "cell_type": "markdown",
      "metadata": {
        "id": "view-in-github",
        "colab_type": "text"
      },
      "source": [
        "<a href=\"https://colab.research.google.com/github/khushimittal0108/adhocnw_machinelearning/blob/SupervisedML/nlp_spacy.ipynb\" target=\"_parent\"><img src=\"https://colab.research.google.com/assets/colab-badge.svg\" alt=\"Open In Colab\"/></a>"
      ]
    },
    {
      "cell_type": "code",
      "metadata": {
        "id": "Fl3YAK9neafe",
        "colab_type": "code",
        "colab": {}
      },
      "source": [
        "import spacy"
      ],
      "execution_count": 0,
      "outputs": []
    },
    {
      "cell_type": "code",
      "metadata": {
        "id": "X7Q2R0hsec25",
        "colab_type": "code",
        "colab": {}
      },
      "source": [
        "#language english--\n",
        "nlp=spacy.load('en')"
      ],
      "execution_count": 0,
      "outputs": []
    },
    {
      "cell_type": "code",
      "metadata": {
        "id": "UMlH1zLTej03",
        "colab_type": "code",
        "colab": {}
      },
      "source": [
        "data=\"Its hard to believe if you don't want to believe\"\n"
      ],
      "execution_count": 0,
      "outputs": []
    },
    {
      "cell_type": "code",
      "metadata": {
        "id": "Twy7Nws5fUJd",
        "colab_type": "code",
        "colab": {}
      },
      "source": [
        "new_data=nlp(data)   #automatic tokenize"
      ],
      "execution_count": 0,
      "outputs": []
    },
    {
      "cell_type": "code",
      "metadata": {
        "id": "jyWayEiNfYC8",
        "colab_type": "code",
        "outputId": "db18af58-832c-4aae-9ca8-23b0a3c4a37d",
        "colab": {
          "base_uri": "https://localhost:8080/",
          "height": 587
        }
      },
      "source": [
        "for i in new_data:\n",
        "  print(i,\"lemmatization of wor is --->\",i.lemma_)\n",
        "  print(i,\"POS-->\",i.pos_)\n",
        "  print(\"--------------------------------------------------------------------------------\")\n",
        "  "
      ],
      "execution_count": 0,
      "outputs": [
        {
          "output_type": "stream",
          "text": [
            "Its lemmatization of wor is ---> -PRON-\n",
            "Its POS--> DET\n",
            "--------------------------------------------------------------------------------\n",
            "hard lemmatization of wor is ---> hard\n",
            "hard POS--> ADJ\n",
            "--------------------------------------------------------------------------------\n",
            "to lemmatization of wor is ---> to\n",
            "to POS--> PART\n",
            "--------------------------------------------------------------------------------\n",
            "believe lemmatization of wor is ---> believe\n",
            "believe POS--> VERB\n",
            "--------------------------------------------------------------------------------\n",
            "if lemmatization of wor is ---> if\n",
            "if POS--> ADP\n",
            "--------------------------------------------------------------------------------\n",
            "you lemmatization of wor is ---> -PRON-\n",
            "you POS--> PRON\n",
            "--------------------------------------------------------------------------------\n",
            "do lemmatization of wor is ---> do\n",
            "do POS--> VERB\n",
            "--------------------------------------------------------------------------------\n",
            "n't lemmatization of wor is ---> not\n",
            "n't POS--> ADV\n",
            "--------------------------------------------------------------------------------\n",
            "want lemmatization of wor is ---> want\n",
            "want POS--> VERB\n",
            "--------------------------------------------------------------------------------\n",
            "to lemmatization of wor is ---> to\n",
            "to POS--> PART\n",
            "--------------------------------------------------------------------------------\n",
            "believe lemmatization of wor is ---> believe\n",
            "believe POS--> VERB\n",
            "--------------------------------------------------------------------------------\n"
          ],
          "name": "stdout"
        }
      ]
    },
    {
      "cell_type": "code",
      "metadata": {
        "id": "CyZXheaJfcDP",
        "colab_type": "code",
        "colab": {}
      },
      "source": [
        ""
      ],
      "execution_count": 0,
      "outputs": []
    }
  ]
}
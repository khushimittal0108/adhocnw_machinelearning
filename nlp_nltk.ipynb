{
  "nbformat": 4,
  "nbformat_minor": 0,
  "metadata": {
    "colab": {
      "name": "nlp_nltk.ipynb",
      "version": "0.3.2",
      "provenance": [],
      "collapsed_sections": [],
      "include_colab_link": true
    },
    "kernelspec": {
      "name": "python3",
      "display_name": "Python 3"
    }
  },
  "cells": [
    {
      "cell_type": "markdown",
      "metadata": {
        "id": "view-in-github",
        "colab_type": "text"
      },
      "source": [
        "<a href=\"https://colab.research.google.com/github/khushimittal0108/adhocnw_machinelearning/blob/SupervisedML/nlp_nltk.ipynb\" target=\"_parent\"><img src=\"https://colab.research.google.com/assets/colab-badge.svg\" alt=\"Open In Colab\"/></a>"
      ]
    },
    {
      "cell_type": "code",
      "metadata": {
        "id": "J46uSVW8hRhx",
        "colab_type": "code",
        "colab": {}
      },
      "source": [
        "from nltk.corpus import wordnet"
      ],
      "execution_count": 0,
      "outputs": []
    },
    {
      "cell_type": "code",
      "metadata": {
        "id": "6EfGeA6vhZLe",
        "colab_type": "code",
        "colab": {}
      },
      "source": [
        "ws=wordnet.synsets('work')   #lemma word pass"
      ],
      "execution_count": 0,
      "outputs": []
    },
    {
      "cell_type": "code",
      "metadata": {
        "id": "QZEaf2VYhf9p",
        "colab_type": "code",
        "outputId": "7ed77150-6327-4f91-bcfc-c07729a404b5",
        "colab": {
          "base_uri": "https://localhost:8080/",
          "height": 34
        }
      },
      "source": [
        "len(ws)"
      ],
      "execution_count": 0,
      "outputs": [
        {
          "output_type": "execute_result",
          "data": {
            "text/plain": [
              "34"
            ]
          },
          "metadata": {
            "tags": []
          },
          "execution_count": 5
        }
      ]
    },
    {
      "cell_type": "code",
      "metadata": {
        "id": "H2w8rlnOhgtt",
        "colab_type": "code",
        "outputId": "56ff3e7c-c523-4c41-9b43-76d794a3a8c4",
        "colab": {
          "base_uri": "https://localhost:8080/",
          "height": 34
        }
      },
      "source": [
        "ws[0].definition()"
      ],
      "execution_count": 0,
      "outputs": [
        {
          "output_type": "execute_result",
          "data": {
            "text/plain": [
              "'activity directed toward making or doing something'"
            ]
          },
          "metadata": {
            "tags": []
          },
          "execution_count": 6
        }
      ]
    },
    {
      "cell_type": "code",
      "metadata": {
        "id": "v5l7eUf5ht6F",
        "colab_type": "code",
        "outputId": "3032425d-4a1c-44e8-9ae4-2bcfc691ad6c",
        "colab": {
          "base_uri": "https://localhost:8080/",
          "height": 605
        }
      },
      "source": [
        "ws"
      ],
      "execution_count": 0,
      "outputs": [
        {
          "output_type": "execute_result",
          "data": {
            "text/plain": [
              "[Synset('work.n.01'),\n",
              " Synset('work.n.02'),\n",
              " Synset('employment.n.02'),\n",
              " Synset('study.n.02'),\n",
              " Synset('work.n.05'),\n",
              " Synset('workplace.n.01'),\n",
              " Synset('oeuvre.n.01'),\n",
              " Synset('work.v.01'),\n",
              " Synset('work.v.02'),\n",
              " Synset('work.v.03'),\n",
              " Synset('function.v.01'),\n",
              " Synset('work.v.05'),\n",
              " Synset('exercise.v.03'),\n",
              " Synset('make.v.36'),\n",
              " Synset('work.v.08'),\n",
              " Synset('work.v.09'),\n",
              " Synset('work.v.10'),\n",
              " Synset('bring.v.03'),\n",
              " Synset('work.v.12'),\n",
              " Synset('cultivate.v.02'),\n",
              " Synset('work.v.14'),\n",
              " Synset('influence.v.01'),\n",
              " Synset('work.v.16'),\n",
              " Synset('work.v.17'),\n",
              " Synset('work.v.18'),\n",
              " Synset('work.v.19'),\n",
              " Synset('shape.v.02'),\n",
              " Synset('work.v.21'),\n",
              " Synset('knead.v.01'),\n",
              " Synset('exploit.v.01'),\n",
              " Synset('solve.v.01'),\n",
              " Synset('ferment.v.03'),\n",
              " Synset('sour.v.01'),\n",
              " Synset('work.v.27')]"
            ]
          },
          "metadata": {
            "tags": []
          },
          "execution_count": 7
        }
      ]
    },
    {
      "cell_type": "code",
      "metadata": {
        "id": "sp6n78JghvJB",
        "colab_type": "code",
        "outputId": "573cfe6f-2cbe-4dbd-a914-2b20e4e2fae4",
        "colab": {
          "base_uri": "https://localhost:8080/",
          "height": 104
        }
      },
      "source": [
        "ws[1].examples()"
      ],
      "execution_count": 0,
      "outputs": [
        {
          "output_type": "execute_result",
          "data": {
            "text/plain": [
              "['it is not regarded as one of his more memorable works',\n",
              " 'the symphony was hailed as an ingenious work',\n",
              " 'he was indebted to the pioneering work of John Dewey',\n",
              " 'the work of an active imagination',\n",
              " 'erosion is the work of wind or water over time']"
            ]
          },
          "metadata": {
            "tags": []
          },
          "execution_count": 8
        }
      ]
    },
    {
      "cell_type": "code",
      "metadata": {
        "id": "MAcFpzegiGEM",
        "colab_type": "code",
        "outputId": "2a3dc0ed-148e-48b2-eb68-ddff808b3845",
        "colab": {
          "base_uri": "https://localhost:8080/",
          "height": 34
        }
      },
      "source": [
        "ws[2].examples()"
      ],
      "execution_count": 0,
      "outputs": [
        {
          "output_type": "execute_result",
          "data": {
            "text/plain": [
              "['he is looking for employment', 'a lot of people are out of work']"
            ]
          },
          "metadata": {
            "tags": []
          },
          "execution_count": 10
        }
      ]
    },
    {
      "cell_type": "code",
      "metadata": {
        "id": "rhodXsLsiK_y",
        "colab_type": "code",
        "outputId": "2897f31d-8083-4e4d-b96d-6373851b84fc",
        "colab": {
          "base_uri": "https://localhost:8080/",
          "height": 34
        }
      },
      "source": [
        "ws[2].definition()"
      ],
      "execution_count": 0,
      "outputs": [
        {
          "output_type": "execute_result",
          "data": {
            "text/plain": [
              "'the occupation for which you are paid'"
            ]
          },
          "metadata": {
            "tags": []
          },
          "execution_count": 11
        }
      ]
    },
    {
      "cell_type": "code",
      "metadata": {
        "id": "NtjflKsIjLHj",
        "colab_type": "code",
        "colab": {}
      },
      "source": [
        "import time"
      ],
      "execution_count": 0,
      "outputs": []
    },
    {
      "cell_type": "code",
      "metadata": {
        "id": "oUgKzwtniX6h",
        "colab_type": "code",
        "outputId": "c609f441-f800-437c-9364-4e8b9292b0d8",
        "colab": {
          "base_uri": "https://localhost:8080/",
          "height": 1000
        }
      },
      "source": [
        "#exploring all the book\n",
        "msg=input(\"Enter your key word you want to know about--->\")\n",
        "for i in wordnet.synsets(msg):   # this will explore all the books according to stanford uni.\n",
        "  print(i.definition())\n",
        "  print(i.examples())\n",
        "  print(\"-------------------------------------------\")\n",
        "  time.sleep(1)"
      ],
      "execution_count": 0,
      "outputs": [
        {
          "output_type": "stream",
          "text": [
            "Enter your key word you want to know about--->work\n",
            "activity directed toward making or doing something\n",
            "['she checked several points needing further work']\n",
            "-------------------------------------------\n",
            "a product produced or accomplished through the effort or activity or agency of a person or thing\n",
            "['it is not regarded as one of his more memorable works', 'the symphony was hailed as an ingenious work', 'he was indebted to the pioneering work of John Dewey', 'the work of an active imagination', 'erosion is the work of wind or water over time']\n",
            "-------------------------------------------\n",
            "the occupation for which you are paid\n",
            "['he is looking for employment', 'a lot of people are out of work']\n",
            "-------------------------------------------\n",
            "applying the mind to learning and understanding a subject (especially by reading)\n",
            "['mastering a second language requires a lot of work', 'no schools offer graduate study in interior design']\n",
            "-------------------------------------------\n",
            "(physics) a manifestation of energy; the transfer of energy from one physical system to another expressed as the product of a force and the distance through which it moves a body in the direction of that force\n",
            "['work equals force times distance']\n",
            "-------------------------------------------\n",
            "a place where work is done\n",
            "['he arrived at work early today']\n",
            "-------------------------------------------\n",
            "the total output of a writer or artist (or a substantial part of it)\n",
            "['he studied the entire Wagnerian oeuvre', \"Picasso's work can be divided into periods\"]\n",
            "-------------------------------------------\n",
            "exert oneself by doing mental or physical work for a purpose or out of necessity\n",
            "['I will work hard to improve my grades', 'she worked hard for better living conditions for the poor']\n",
            "-------------------------------------------\n",
            "be employed\n",
            "['Is your husband working again?', 'My wife never worked', 'Do you want to work after the age of 60?', 'She never did any work because she inherited a lot of money', 'She works as a waitress to put herself through college']\n",
            "-------------------------------------------\n",
            "have an effect or outcome; often the one desired or expected\n",
            "[\"The voting process doesn't work as well as people thought\", 'How does your idea work in practice?', \"This method doesn't work\", 'The breaks of my new car act quickly', 'The medicine works only if you take it with a lot of water']\n",
            "-------------------------------------------\n",
            "perform as expected when applied\n",
            "[\"The washing machine won't go unless it's plugged in\", 'Does this old car still run well?', \"This old radio doesn't work anymore\"]\n",
            "-------------------------------------------\n",
            "shape, form, or improve a material\n",
            "['work stone into tools', 'process iron', 'work the metal']\n",
            "-------------------------------------------\n",
            "give a workout to\n",
            "['Some parents exercise their infants', 'My personal trainer works me hard', \"work one's muscles\", 'this puzzle will exercise your mind']\n",
            "-------------------------------------------\n",
            "proceed along a path\n",
            "[\"work one's way through the crowd\", \"make one's way into the forest\"]\n",
            "-------------------------------------------\n",
            "operate in a certain place, area, or specialty\n",
            "['She works the night clubs', 'The salesman works the Midwest', 'This artist works mostly in acrylics']\n",
            "-------------------------------------------\n",
            "proceed towards a goal or along a path or through an activity\n",
            "['work your way through every problem or task', 'She was working on her second martini when the guests arrived', 'Start from the bottom and work towards the top']\n",
            "-------------------------------------------\n",
            "move in an agitated manner\n",
            "['His fingers worked with tension']\n",
            "-------------------------------------------\n",
            "cause to happen or to occur as a consequence\n",
            "['I cannot work a miracle', 'wreak havoc', 'bring comments', 'play a joke', 'The rain brought relief to the drought-stricken area']\n",
            "-------------------------------------------\n",
            "cause to work\n",
            "['he is working his servants hard']\n",
            "-------------------------------------------\n",
            "prepare for crops\n",
            "['Work the soil', 'cultivate the land']\n",
            "-------------------------------------------\n",
            "behave in a certain way when handled\n",
            "['This dough does not work easily', 'The soft metal works well']\n",
            "-------------------------------------------\n",
            "have and exert influence or effect\n",
            "[\"The artist's work influenced the young painter\", 'She worked on her friends to support the political candidate']\n",
            "-------------------------------------------\n",
            "operate in or through\n",
            "['Work the phones']\n",
            "-------------------------------------------\n",
            "cause to operate or function\n",
            "['This pilot works the controls', 'Can you work an electric drill?']\n",
            "-------------------------------------------\n",
            "provoke or excite\n",
            "['The rock musician worked the crowd of young girls into a frenzy']\n",
            "-------------------------------------------\n",
            "gratify and charm, usually in order to influence\n",
            "['the political candidate worked the crowds']\n",
            "-------------------------------------------\n",
            "make something, usually for a specific function\n",
            "['She molded the rice balls carefully', 'Form cylinders from the dough', 'shape a figure', 'Work the metal into a sword']\n",
            "-------------------------------------------\n",
            "move into or onto\n",
            "['work the raisins into the dough', 'the student worked a few jokes into his presentation', 'work the body onto the flatbed truck']\n",
            "-------------------------------------------\n",
            "make uniform\n",
            "['knead dough', 'work the clay until it is soft']\n",
            "-------------------------------------------\n",
            "use or manipulate to one's advantage\n",
            "['He exploit the new taxation system', 'She knows how to work the system', 'he works his parents for sympathy']\n",
            "-------------------------------------------\n",
            "find the solution to (a problem or question) or understand the meaning of\n",
            "['did you solve the problem?', 'Work out your problems with the boss', \"this unpleasant situation isn't going to work itself out\", 'did you get it?', 'Did you get my meaning?', 'He could not work the math problem']\n",
            "-------------------------------------------\n",
            "cause to undergo fermentation\n",
            "['We ferment the grapes for a very long time to achieve high alcohol content', 'The vintner worked the wine in big oak vats']\n",
            "-------------------------------------------\n",
            "go sour or spoil\n",
            "['The milk has soured', 'The wine worked', 'The cream has turned--we have to throw it out']\n",
            "-------------------------------------------\n",
            "arrive at a certain condition through repeated motion\n",
            "['The stitches of the hem worked loose after she wore the skirt many times']\n",
            "-------------------------------------------\n"
          ],
          "name": "stdout"
        }
      ]
    },
    {
      "cell_type": "code",
      "metadata": {
        "id": "TruMMlm7irqv",
        "colab_type": "code",
        "colab": {}
      },
      "source": [
        ""
      ],
      "execution_count": 0,
      "outputs": []
    }
  ]
}
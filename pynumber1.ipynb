{
  "nbformat": 4,
  "nbformat_minor": 0,
  "metadata": {
    "colab": {
      "name": "Untitled3.ipynb",
      "version": "0.3.2",
      "provenance": [],
      "include_colab_link": true
    },
    "kernelspec": {
      "name": "python3",
      "display_name": "Python 3"
    }
  },
  "cells": [
    {
      "cell_type": "markdown",
      "metadata": {
        "id": "view-in-github",
        "colab_type": "text"
      },
      "source": [
        "<a href=\"https://colab.research.google.com/github/khushimittal0108/adhocnw_machinelearning/blob/master/pynumber1.ipynb\" target=\"_parent\"><img src=\"https://colab.research.google.com/assets/colab-badge.svg\" alt=\"Open In Colab\"/></a>"
      ]
    },
    {
      "cell_type": "code",
      "metadata": {
        "id": "rtMk_SJucx8L",
        "colab_type": "code",
        "colab": {}
      },
      "source": [
        "import numpy as np"
      ],
      "execution_count": 0,
      "outputs": []
    },
    {
      "cell_type": "code",
      "metadata": {
        "id": "hQ-JFHg6d-3k",
        "colab_type": "code",
        "colab": {
          "base_uri": "https://localhost:8080/",
          "height": 50
        },
        "outputId": "e3ccd237-8194-42ec-9785-92a48848ee8a"
      },
      "source": [
        "r=int(input(\"Enter the number of rows :\"))\n",
        "c=int(input(\"Enter the number of columns :\"))\n"
      ],
      "execution_count": 19,
      "outputs": [
        {
          "output_type": "stream",
          "text": [
            "Enter the number of rows :3\n",
            "Enter the number of columns :5\n"
          ],
          "name": "stdout"
        }
      ]
    },
    {
      "cell_type": "code",
      "metadata": {
        "id": "rFxZQ4qDeSeK",
        "colab_type": "code",
        "colab": {}
      },
      "source": [
        "arr=np.random.rand(r,c)"
      ],
      "execution_count": 0,
      "outputs": []
    },
    {
      "cell_type": "code",
      "metadata": {
        "id": "jDIQobQFfwKX",
        "colab_type": "code",
        "colab": {
          "base_uri": "https://localhost:8080/",
          "height": 67
        },
        "outputId": "50148145-3efe-44b4-a974-18825d238d6e"
      },
      "source": [
        "arr"
      ],
      "execution_count": 21,
      "outputs": [
        {
          "output_type": "execute_result",
          "data": {
            "text/plain": [
              "array([[0.53517276, 0.75214274, 0.97691473, 0.87815108, 0.57478017],\n",
              "       [0.60835369, 0.44689355, 0.92748701, 0.02761138, 0.68508054],\n",
              "       [0.90262207, 0.08400907, 0.82511833, 0.25078567, 0.95817219]])"
            ]
          },
          "metadata": {
            "tags": []
          },
          "execution_count": 21
        }
      ]
    },
    {
      "cell_type": "code",
      "metadata": {
        "id": "VxhoQD9Tf-z9",
        "colab_type": "code",
        "colab": {}
      },
      "source": [
        "np.save('array.npy',arr)"
      ],
      "execution_count": 0,
      "outputs": []
    },
    {
      "cell_type": "code",
      "metadata": {
        "id": "4cXJxp70hA6V",
        "colab_type": "code",
        "colab": {
          "base_uri": "https://localhost:8080/",
          "height": 67
        },
        "outputId": "6141603a-2242-48ee-93af-1f846a8fef6e"
      },
      "source": [
        "np.load('array.npy')"
      ],
      "execution_count": 23,
      "outputs": [
        {
          "output_type": "execute_result",
          "data": {
            "text/plain": [
              "array([[0.53517276, 0.75214274, 0.97691473, 0.87815108, 0.57478017],\n",
              "       [0.60835369, 0.44689355, 0.92748701, 0.02761138, 0.68508054],\n",
              "       [0.90262207, 0.08400907, 0.82511833, 0.25078567, 0.95817219]])"
            ]
          },
          "metadata": {
            "tags": []
          },
          "execution_count": 23
        }
      ]
    },
    {
      "cell_type": "code",
      "metadata": {
        "id": "MxoFVScmhHjS",
        "colab_type": "code",
        "colab": {}
      },
      "source": [
        ""
      ],
      "execution_count": 0,
      "outputs": []
    }
  ]
}
{
  "nbformat": 4,
  "nbformat_minor": 0,
  "metadata": {
    "colab": {
      "name": "Untitled3.ipynb",
      "version": "0.3.2",
      "provenance": [],
      "include_colab_link": true
    },
    "kernelspec": {
      "name": "python3",
      "display_name": "Python 3"
    }
  },
  "cells": [
    {
      "cell_type": "markdown",
      "metadata": {
        "id": "view-in-github",
        "colab_type": "text"
      },
      "source": [
        "<a href=\"https://colab.research.google.com/github/khushimittal0108/adhocnw_machinelearning/blob/master/pynumber1.ipynb\" target=\"_parent\"><img src=\"https://colab.research.google.com/assets/colab-badge.svg\" alt=\"Open In Colab\"/></a>"
      ]
    },
    {
      "cell_type": "code",
      "metadata": {
        "id": "rtMk_SJucx8L",
        "colab_type": "code",
        "colab": {}
      },
      "source": [
        "import numpy as np"
      ],
      "execution_count": 0,
      "outputs": []
    },
    {
      "cell_type": "code",
      "metadata": {
        "id": "hQ-JFHg6d-3k",
        "colab_type": "code",
        "outputId": "af387c00-f72e-4362-a45f-01e966bc5170",
        "colab": {
          "base_uri": "https://localhost:8080/",
          "height": 50
        }
      },
      "source": [
        "#method 1 to take input\n",
        "r=int(input(\"Enter the number of rows :\"))\n",
        "c=int(input(\"Enter the number of columns :\"))"
      ],
      "execution_count": 24,
      "outputs": [
        {
          "output_type": "stream",
          "text": [
            "Enter the number of rows :3\n",
            "Enter the number of columns :7\n"
          ],
          "name": "stdout"
        }
      ]
    },
    {
      "cell_type": "code",
      "metadata": {
        "id": "rFxZQ4qDeSeK",
        "colab_type": "code",
        "colab": {}
      },
      "source": [
        "arr=np.random.rand(r,c)"
      ],
      "execution_count": 0,
      "outputs": []
    },
    {
      "cell_type": "code",
      "metadata": {
        "id": "jDIQobQFfwKX",
        "colab_type": "code",
        "outputId": "f951c18e-0b2d-4f8a-bcf1-f99c2601b029",
        "colab": {
          "base_uri": "https://localhost:8080/",
          "height": 117
        }
      },
      "source": [
        "arr"
      ],
      "execution_count": 26,
      "outputs": [
        {
          "output_type": "execute_result",
          "data": {
            "text/plain": [
              "array([[0.18340316, 0.243822  , 0.87431115, 0.46565003, 0.74084885,\n",
              "        0.92749227, 0.41526782],\n",
              "       [0.49250019, 0.24826168, 0.07172699, 0.98909746, 0.32422592,\n",
              "        0.13348744, 0.47993039],\n",
              "       [0.52729835, 0.15134431, 0.55813014, 0.64083777, 0.26947461,\n",
              "        0.15551811, 0.66043455]])"
            ]
          },
          "metadata": {
            "tags": []
          },
          "execution_count": 26
        }
      ]
    },
    {
      "cell_type": "code",
      "metadata": {
        "id": "VxhoQD9Tf-z9",
        "colab_type": "code",
        "colab": {}
      },
      "source": [
        "np.save('array.npy',arr)"
      ],
      "execution_count": 0,
      "outputs": []
    },
    {
      "cell_type": "code",
      "metadata": {
        "id": "4cXJxp70hA6V",
        "colab_type": "code",
        "outputId": "5c879cf2-d821-43eb-fc9e-1e04d26b78c4",
        "colab": {
          "base_uri": "https://localhost:8080/",
          "height": 117
        }
      },
      "source": [
        "np.load('array.npy')"
      ],
      "execution_count": 28,
      "outputs": [
        {
          "output_type": "execute_result",
          "data": {
            "text/plain": [
              "array([[0.18340316, 0.243822  , 0.87431115, 0.46565003, 0.74084885,\n",
              "        0.92749227, 0.41526782],\n",
              "       [0.49250019, 0.24826168, 0.07172699, 0.98909746, 0.32422592,\n",
              "        0.13348744, 0.47993039],\n",
              "       [0.52729835, 0.15134431, 0.55813014, 0.64083777, 0.26947461,\n",
              "        0.15551811, 0.66043455]])"
            ]
          },
          "metadata": {
            "tags": []
          },
          "execution_count": 28
        }
      ]
    },
    {
      "cell_type": "code",
      "metadata": {
        "id": "MxoFVScmhHjS",
        "colab_type": "code",
        "colab": {
          "base_uri": "https://localhost:8080/",
          "height": 33
        },
        "outputId": "e9fcc847-9f04-4e61-bf21-4424facc23ad"
      },
      "source": [
        "#method 2 to take input\n",
        "row,column = input().split('x')"
      ],
      "execution_count": 29,
      "outputs": [
        {
          "output_type": "stream",
          "text": [
            "8x4\n"
          ],
          "name": "stdout"
        }
      ]
    },
    {
      "cell_type": "code",
      "metadata": {
        "id": "BzNXUR7pkZ6P",
        "colab_type": "code",
        "colab": {}
      },
      "source": [
        "a=np.random.rand(int(row),int(column))\n"
      ],
      "execution_count": 0,
      "outputs": []
    },
    {
      "cell_type": "code",
      "metadata": {
        "id": "YjzgGJ1ak-2u",
        "colab_type": "code",
        "colab": {
          "base_uri": "https://localhost:8080/",
          "height": 150
        },
        "outputId": "afacf514-ada0-484f-eaa1-088b99095b53"
      },
      "source": [
        "a"
      ],
      "execution_count": 31,
      "outputs": [
        {
          "output_type": "execute_result",
          "data": {
            "text/plain": [
              "array([[0.65483227, 0.68523001, 0.93700268, 0.57668835],\n",
              "       [0.65910998, 0.24093098, 0.07592156, 0.98758991],\n",
              "       [0.9014004 , 0.15005507, 0.55870363, 0.39893771],\n",
              "       [0.61835284, 0.16407245, 0.20894886, 0.76398447],\n",
              "       [0.4058684 , 0.81850594, 0.9727068 , 0.5430668 ],\n",
              "       [0.4206997 , 0.44254193, 0.37874387, 0.17889386],\n",
              "       [0.75281614, 0.97832297, 0.38165237, 0.12529658],\n",
              "       [0.72113001, 0.2546119 , 0.99652502, 0.82474089]])"
            ]
          },
          "metadata": {
            "tags": []
          },
          "execution_count": 31
        }
      ]
    },
    {
      "cell_type": "code",
      "metadata": {
        "id": "1CoRewsAlhTG",
        "colab_type": "code",
        "colab": {}
      },
      "source": [
        "np.save('array1.npy',a)"
      ],
      "execution_count": 0,
      "outputs": []
    },
    {
      "cell_type": "code",
      "metadata": {
        "id": "dxaUidZnlmxx",
        "colab_type": "code",
        "colab": {
          "base_uri": "https://localhost:8080/",
          "height": 150
        },
        "outputId": "9ade23dc-111d-473e-e83a-d3a9508c8703"
      },
      "source": [
        "np.load('array1.npy')\n"
      ],
      "execution_count": 33,
      "outputs": [
        {
          "output_type": "execute_result",
          "data": {
            "text/plain": [
              "array([[0.65483227, 0.68523001, 0.93700268, 0.57668835],\n",
              "       [0.65910998, 0.24093098, 0.07592156, 0.98758991],\n",
              "       [0.9014004 , 0.15005507, 0.55870363, 0.39893771],\n",
              "       [0.61835284, 0.16407245, 0.20894886, 0.76398447],\n",
              "       [0.4058684 , 0.81850594, 0.9727068 , 0.5430668 ],\n",
              "       [0.4206997 , 0.44254193, 0.37874387, 0.17889386],\n",
              "       [0.75281614, 0.97832297, 0.38165237, 0.12529658],\n",
              "       [0.72113001, 0.2546119 , 0.99652502, 0.82474089]])"
            ]
          },
          "metadata": {
            "tags": []
          },
          "execution_count": 33
        }
      ]
    },
    {
      "cell_type": "code",
      "metadata": {
        "id": "D1LoYrtilvEB",
        "colab_type": "code",
        "colab": {}
      },
      "source": [
        ""
      ],
      "execution_count": 0,
      "outputs": []
    }
  ]
}
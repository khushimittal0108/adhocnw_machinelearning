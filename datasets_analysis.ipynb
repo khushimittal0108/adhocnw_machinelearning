{
  "nbformat": 4,
  "nbformat_minor": 0,
  "metadata": {
    "colab": {
      "name": "datasets_analysis.ipynb",
      "version": "0.3.2",
      "provenance": [],
      "collapsed_sections": [],
      "include_colab_link": true
    },
    "kernelspec": {
      "name": "python3",
      "display_name": "Python 3"
    }
  },
  "cells": [
    {
      "cell_type": "markdown",
      "metadata": {
        "id": "view-in-github",
        "colab_type": "text"
      },
      "source": [
        "<a href=\"https://colab.research.google.com/github/khushimittal0108/adhocnw_machinelearning/blob/SupervisedML/datasets_analysis.ipynb\" target=\"_parent\"><img src=\"https://colab.research.google.com/assets/colab-badge.svg\" alt=\"Open In Colab\"/></a>"
      ]
    },
    {
      "cell_type": "code",
      "metadata": {
        "id": "S_xJzhQpj5c_",
        "colab_type": "code",
        "colab": {}
      },
      "source": [
        "from sklearn import datasets\n",
        "import time"
      ],
      "execution_count": 0,
      "outputs": []
    },
    {
      "cell_type": "code",
      "metadata": {
        "id": "6KUnSfmCkGYA",
        "colab_type": "code",
        "outputId": "00da9f2f-a303-43dc-fdc1-b345ec167930",
        "colab": {
          "base_uri": "https://localhost:8080/",
          "height": 1261
        }
      },
      "source": [
        "#showing data sets\n",
        "for i in dir(datasets) :\n",
        "  print(i)\n",
        "  time.sleep(2)"
      ],
      "execution_count": 0,
      "outputs": [
        {
          "output_type": "stream",
          "text": [
            "__all__\n",
            "__builtins__\n",
            "__cached__\n",
            "__doc__\n",
            "__file__\n",
            "__loader__\n",
            "__name__\n",
            "__package__\n",
            "__path__\n",
            "__spec__\n",
            "_svmlight_format\n",
            "base\n",
            "california_housing\n",
            "clear_data_home\n",
            "covtype\n",
            "dump_svmlight_file\n",
            "fetch_20newsgroups\n",
            "fetch_20newsgroups_vectorized\n",
            "fetch_california_housing\n",
            "fetch_covtype\n",
            "fetch_kddcup99\n",
            "fetch_lfw_pairs\n",
            "fetch_lfw_people\n",
            "fetch_mldata\n",
            "fetch_olivetti_faces\n",
            "fetch_openml\n",
            "fetch_rcv1\n",
            "fetch_species_distributions\n",
            "get_data_home\n",
            "kddcup99\n",
            "lfw\n",
            "load_boston\n",
            "load_breast_cancer\n",
            "load_diabetes\n",
            "load_digits\n",
            "load_files\n",
            "load_iris\n",
            "load_linnerud\n",
            "load_sample_image\n",
            "load_sample_images\n",
            "load_svmlight_file\n",
            "load_svmlight_files\n",
            "load_wine\n",
            "make_biclusters\n",
            "make_blobs\n",
            "make_checkerboard\n",
            "make_circles\n",
            "make_classification\n",
            "make_friedman1\n",
            "make_friedman2\n",
            "make_friedman3\n",
            "make_gaussian_quantiles\n",
            "make_hastie_10_2\n",
            "make_low_rank_matrix\n",
            "make_moons\n",
            "make_multilabel_classification\n",
            "make_regression\n",
            "make_s_curve\n",
            "make_sparse_coded_signal\n",
            "make_sparse_spd_matrix\n",
            "make_sparse_uncorrelated\n",
            "make_spd_matrix\n",
            "make_swiss_roll\n",
            "mldata\n",
            "mldata_filename\n",
            "olivetti_faces\n",
            "openml\n",
            "rcv1\n",
            "samples_generator\n",
            "species_distributions\n",
            "svmlight_format\n",
            "twenty_newsgroups\n"
          ],
          "name": "stdout"
        }
      ]
    },
    {
      "cell_type": "code",
      "metadata": {
        "id": "CcH7zyDvkS_t",
        "colab_type": "code",
        "outputId": "5b5bbe66-2333-4153-d63f-29edf29932b0",
        "colab": {
          "base_uri": "https://localhost:8080/",
          "height": 242
        }
      },
      "source": [
        "#this dataset is offline provided by SCI-kit learn\n",
        "[i for i in dir(datasets) if 'load' in i]"
      ],
      "execution_count": 0,
      "outputs": [
        {
          "output_type": "execute_result",
          "data": {
            "text/plain": [
              "['__loader__',\n",
              " 'load_boston',\n",
              " 'load_breast_cancer',\n",
              " 'load_diabetes',\n",
              " 'load_digits',\n",
              " 'load_files',\n",
              " 'load_iris',\n",
              " 'load_linnerud',\n",
              " 'load_sample_image',\n",
              " 'load_sample_images',\n",
              " 'load_svmlight_file',\n",
              " 'load_svmlight_files',\n",
              " 'load_wine']"
            ]
          },
          "metadata": {
            "tags": []
          },
          "execution_count": 6
        }
      ]
    },
    {
      "cell_type": "code",
      "metadata": {
        "id": "W2lKQuFYlMit",
        "colab_type": "code",
        "colab": {}
      },
      "source": [
        "\n"
      ],
      "execution_count": 0,
      "outputs": []
    }
  ]
}
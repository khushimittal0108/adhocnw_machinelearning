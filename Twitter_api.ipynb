{
  "nbformat": 4,
  "nbformat_minor": 0,
  "metadata": {
    "colab": {
      "name": "Twitter_api.ipynb",
      "version": "0.3.2",
      "provenance": [],
      "collapsed_sections": [],
      "include_colab_link": true
    },
    "kernelspec": {
      "name": "python3",
      "display_name": "Python 3"
    }
  },
  "cells": [
    {
      "cell_type": "markdown",
      "metadata": {
        "id": "view-in-github",
        "colab_type": "text"
      },
      "source": [
        "<a href=\"https://colab.research.google.com/github/khushimittal0108/adhocnw_machinelearning/blob/SupervisedML/Twitter_api.ipynb\" target=\"_parent\"><img src=\"https://colab.research.google.com/assets/colab-badge.svg\" alt=\"Open In Colab\"/></a>"
      ]
    },
    {
      "cell_type": "code",
      "metadata": {
        "id": "crN8sd9ULLE4",
        "colab_type": "code",
        "colab": {}
      },
      "source": [
        "#sudo pip3 install tweepy\n",
        "import tweepy\n",
        "import matplotlib.pyplot as plt\n",
        "import time\n",
        "from textblob import TextBlob"
      ],
      "execution_count": 0,
      "outputs": []
    },
    {
      "cell_type": "code",
      "metadata": {
        "id": "i3Uma8olLZDZ",
        "colab_type": "code",
        "colab": {}
      },
      "source": [
        "#all 4 authentication keys to access twitter API\n",
        "# to connect as OAth handler or jump server/reverse proxy server\n",
        "consumer_key=''\n",
        "consumer_sec=''\n",
        "# from proxy server we need to connect to server of twitter\n",
        "access_token=''\n",
        "access_sec=''"
      ],
      "execution_count": 0,
      "outputs": []
    },
    {
      "cell_type": "code",
      "metadata": {
        "id": "ug0meihZOqIn",
        "colab_type": "code",
        "colab": {}
      },
      "source": [
        "#tweepy explore --\n",
        "#connecting to jump server of twitter\n",
        "auth=tweepy.OAuthHandler(consumer_key,consumer_sec)\n"
      ],
      "execution_count": 0,
      "outputs": []
    },
    {
      "cell_type": "code",
      "metadata": {
        "id": "SN1Y4wMRPNwQ",
        "colab_type": "code",
        "colab": {}
      },
      "source": [
        "# now we can connect from jump server to web server of twitter \n",
        "auth.set_access_token(access_token,access_sec)"
      ],
      "execution_count": 0,
      "outputs": []
    },
    {
      "cell_type": "code",
      "metadata": {
        "id": "EcSgrYzmPhic",
        "colab_type": "code",
        "colab": {}
      },
      "source": [
        "#now we can connet to API storage server of twitter\n",
        "api_connect=tweepy.API(auth)"
      ],
      "execution_count": 0,
      "outputs": []
    },
    {
      "cell_type": "code",
      "metadata": {
        "id": "F8WYq2yDPuHf",
        "colab_type": "code",
        "colab": {}
      },
      "source": [
        "#now you can search any topic on twitter\n",
        "tweet_data=api_connect.search('love',count=400)"
      ],
      "execution_count": 0,
      "outputs": []
    },
    {
      "cell_type": "code",
      "metadata": {
        "id": "PQ6Xy7XQQK3T",
        "colab_type": "code",
        "colab": {
          "base_uri": "https://localhost:8080/",
          "height": 1000
        },
        "outputId": "f7a91fd3-c30a-4cdd-bd69-142bc8305f16"
      },
      "source": [
        "pos=0\n",
        "neg=0\n",
        "neu=0\n",
        "#printing line by line\n",
        "for tweet in tweet_data:\n",
        "  #print(tweet.text)\n",
        "  analysis=TextBlob(tweet.text)    #here it will apply NLP\n",
        "  print(analysis.sentiment)\n",
        "  # now checking only polarity\n",
        "  if analysis.sentiment.polarity > 0:\n",
        "    print(\"positive\")\n",
        "    pos=pos+1\n",
        "  elif analysis.sentiment.polarity == 0:\n",
        "    print(\"Neutral\")\n",
        "    neu=neu+1\n",
        "  else :\n",
        "    print(\"Negative\")\n",
        "    neg=neg+1\n",
        "    \n",
        "#plotting_graphs\n",
        "plt.xlabel(\"Tags\")\n",
        "plt.ylabel(\"Polarity\")\n",
        "plt.bar(['neu','pos','neg'],[neu,pos,neg])\n",
        "plt.show()"
      ],
      "execution_count": 41,
      "outputs": [
        {
          "output_type": "stream",
          "text": [
            "Sentiment(polarity=0.0, subjectivity=0.0)\n",
            "Neutral\n",
            "Sentiment(polarity=0.6, subjectivity=0.5666666666666668)\n",
            "positive\n",
            "Sentiment(polarity=0.340625, subjectivity=0.4583333333333333)\n",
            "positive\n",
            "Sentiment(polarity=0.6, subjectivity=0.9)\n",
            "positive\n",
            "Sentiment(polarity=0.2520833333333333, subjectivity=0.41041666666666665)\n",
            "positive\n",
            "Sentiment(polarity=0.25, subjectivity=1.0)\n",
            "positive\n",
            "Sentiment(polarity=0.65, subjectivity=0.8)\n",
            "positive\n",
            "Sentiment(polarity=0.25, subjectivity=1.0)\n",
            "positive\n",
            "Sentiment(polarity=0.5583333333333333, subjectivity=0.6583333333333334)\n",
            "positive\n",
            "Sentiment(polarity=0.25, subjectivity=0.3333333333333333)\n",
            "positive\n",
            "Sentiment(polarity=0.0, subjectivity=0.0)\n",
            "Neutral\n",
            "Sentiment(polarity=0.5, subjectivity=0.6)\n",
            "positive\n",
            "Sentiment(polarity=0.0, subjectivity=0.0)\n",
            "Neutral\n",
            "Sentiment(polarity=0.5, subjectivity=0.6)\n",
            "positive\n",
            "Sentiment(polarity=0.4, subjectivity=0.62)\n",
            "positive\n",
            "Sentiment(polarity=0.5, subjectivity=0.6)\n",
            "positive\n",
            "Sentiment(polarity=0.5, subjectivity=0.6)\n",
            "positive\n",
            "Sentiment(polarity=0.19999999999999998, subjectivity=0.75)\n",
            "positive\n",
            "Sentiment(polarity=-0.15000000000000002, subjectivity=0.75)\n",
            "Negative\n",
            "Sentiment(polarity=0.25, subjectivity=0.675)\n",
            "positive\n",
            "Sentiment(polarity=0.5750000000000001, subjectivity=0.7999999999999999)\n",
            "positive\n",
            "Sentiment(polarity=0.5, subjectivity=0.6)\n",
            "positive\n",
            "Sentiment(polarity=0.5, subjectivity=0.6)\n",
            "positive\n",
            "Sentiment(polarity=0.0, subjectivity=0.0)\n",
            "Neutral\n",
            "Sentiment(polarity=0.5, subjectivity=0.55)\n",
            "positive\n",
            "Sentiment(polarity=0.5, subjectivity=0.6)\n",
            "positive\n",
            "Sentiment(polarity=0.35, subjectivity=0.7)\n",
            "positive\n",
            "Sentiment(polarity=-0.09166666666666667, subjectivity=0.5166666666666667)\n",
            "Negative\n",
            "Sentiment(polarity=0.45000000000000007, subjectivity=0.55)\n",
            "positive\n",
            "Sentiment(polarity=0.0, subjectivity=0.0)\n",
            "Neutral\n",
            "Sentiment(polarity=0.0, subjectivity=0.0)\n",
            "Neutral\n",
            "Sentiment(polarity=0.4, subjectivity=0.35)\n",
            "positive\n",
            "Sentiment(polarity=0.0, subjectivity=0.0)\n",
            "Neutral\n",
            "Sentiment(polarity=0.26666666666666666, subjectivity=0.7666666666666666)\n",
            "positive\n",
            "Sentiment(polarity=0.0, subjectivity=0.0)\n",
            "Neutral\n",
            "Sentiment(polarity=0.6666666666666666, subjectivity=0.5)\n",
            "positive\n",
            "Sentiment(polarity=0.4375, subjectivity=0.35)\n",
            "positive\n",
            "Sentiment(polarity=0.16875, subjectivity=0.39375)\n",
            "positive\n",
            "Sentiment(polarity=0.0, subjectivity=0.0)\n",
            "Neutral\n",
            "Sentiment(polarity=0.75, subjectivity=0.8)\n",
            "positive\n",
            "Sentiment(polarity=-0.2916666666666667, subjectivity=0.5416666666666666)\n",
            "Negative\n",
            "Sentiment(polarity=0.1952380952380952, subjectivity=0.6452380952380953)\n",
            "positive\n",
            "Sentiment(polarity=0.125, subjectivity=0.55625)\n",
            "positive\n",
            "Sentiment(polarity=0.24242424242424243, subjectivity=0.6484848484848484)\n",
            "positive\n",
            "Sentiment(polarity=0.2777777777777778, subjectivity=0.35555555555555557)\n",
            "positive\n",
            "Sentiment(polarity=0.25, subjectivity=0.35)\n",
            "positive\n",
            "Sentiment(polarity=0.0, subjectivity=0.0)\n",
            "Neutral\n",
            "Sentiment(polarity=0.03690476190476192, subjectivity=0.5523809523809523)\n",
            "positive\n",
            "Sentiment(polarity=0.45, subjectivity=0.55)\n",
            "positive\n",
            "Sentiment(polarity=0.6666666666666666, subjectivity=0.46666666666666673)\n",
            "positive\n",
            "Sentiment(polarity=0.0, subjectivity=0.0)\n",
            "Neutral\n",
            "Sentiment(polarity=0.5, subjectivity=0.6)\n",
            "positive\n",
            "Sentiment(polarity=0.5, subjectivity=0.6)\n",
            "positive\n",
            "Sentiment(polarity=0.5, subjectivity=0.6)\n",
            "positive\n",
            "Sentiment(polarity=0.5, subjectivity=0.6)\n",
            "positive\n",
            "Sentiment(polarity=0.3416666666666666, subjectivity=0.3333333333333333)\n",
            "positive\n",
            "Sentiment(polarity=0.2, subjectivity=0.8375)\n",
            "positive\n",
            "Sentiment(polarity=-0.04999999999999999, subjectivity=0.8)\n",
            "Negative\n",
            "Sentiment(polarity=0.24375, subjectivity=0.3)\n",
            "positive\n",
            "Sentiment(polarity=0.0, subjectivity=0.0)\n",
            "Neutral\n",
            "Sentiment(polarity=0.0, subjectivity=0.0)\n",
            "Neutral\n",
            "Sentiment(polarity=0.0, subjectivity=0.0)\n",
            "Neutral\n",
            "Sentiment(polarity=0.45, subjectivity=0.5833333333333334)\n",
            "positive\n",
            "Sentiment(polarity=0.0, subjectivity=0.0)\n",
            "Neutral\n",
            "Sentiment(polarity=0.016666666666666663, subjectivity=0.5666666666666668)\n",
            "positive\n",
            "Sentiment(polarity=0.37916666666666665, subjectivity=0.49583333333333335)\n",
            "positive\n",
            "Sentiment(polarity=0.0, subjectivity=0.0)\n",
            "Neutral\n",
            "Sentiment(polarity=0.16666666666666666, subjectivity=0.3833333333333333)\n",
            "positive\n",
            "Sentiment(polarity=0.0, subjectivity=0.0)\n",
            "Neutral\n",
            "Sentiment(polarity=0.2604166666666667, subjectivity=0.7666666666666666)\n",
            "positive\n"
          ],
          "name": "stdout"
        },
        {
          "output_type": "display_data",
          "data": {
            "image/png": "[encoded data removed]",
            "text/plain": [
              "<Figure size 432x288 with 1 Axes>"
            ]
          },
          "metadata": {
            "tags": []
          }
        }
      ]
    },
    {
      "cell_type": "code",
      "metadata": {
        "id": "DZZMb3pwR-bg",
        "colab_type": "code",
        "colab": {
          "base_uri": "https://localhost:8080/",
          "height": 255
        },
        "outputId": "354c5d05-70ad-438f-ddc8-c2844e7e1cc0"
      },
      "source": [
        "plt.pie([pos,neu,neg],labels=[\"pos\",\"neu\",\"neg\"])\n",
        "plt.show()"
      ],
      "execution_count": 42,
      "outputs": [
        {
          "output_type": "display_data",
          "data": {
            "image/png": "[encoded data removed]",
            "text/plain": [
              "<Figure size 432x288 with 1 Axes>"
            ]
          },
          "metadata": {
            "tags": []
          }
        }
      ]
    },
    {
      "cell_type": "code",
      "metadata": {
        "id": "HmF84fUOVRbB",
        "colab_type": "code",
        "colab": {}
      },
      "source": [
        ""
      ],
      "execution_count": 0,
      "outputs": []
    }
  ]
}
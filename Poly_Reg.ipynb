{
  "nbformat": 4,
  "nbformat_minor": 0,
  "metadata": {
    "colab": {
      "name": "Poly_Reg.ipynb",
      "version": "0.3.2",
      "provenance": [],
      "collapsed_sections": [],
      "include_colab_link": true
    },
    "kernelspec": {
      "name": "python3",
      "display_name": "Python 3"
    }
  },
  "cells": [
    {
      "cell_type": "markdown",
      "metadata": {
        "id": "view-in-github",
        "colab_type": "text"
      },
      "source": [
        "<a href=\"https://colab.research.google.com/github/khushimittal0108/adhocnw_machinelearning/blob/SupervisedML/Poly_Reg.ipynb\" target=\"_parent\"><img src=\"https://colab.research.google.com/assets/colab-badge.svg\" alt=\"Open In Colab\"/></a>"
      ]
    },
    {
      "cell_type": "code",
      "metadata": {
        "id": "qRmFUFFZD6p7",
        "colab_type": "code",
        "colab": {}
      },
      "source": [
        "import pandas as pd\n",
        "import matplotlib.pyplot as plt"
      ],
      "execution_count": 0,
      "outputs": []
    },
    {
      "cell_type": "code",
      "metadata": {
        "id": "lE811sD7EMOb",
        "colab_type": "code",
        "colab": {}
      },
      "source": [
        "# data loading\n",
        "df=pd.read_csv('http://13.234.66.67/summer19/datasets/salary.csv')"
      ],
      "execution_count": 0,
      "outputs": []
    },
    {
      "cell_type": "code",
      "metadata": {
        "id": "RODumdgbEWTA",
        "colab_type": "code",
        "colab": {}
      },
      "source": [
        "# exp\n",
        "exp=df.iloc[:,0:1].values"
      ],
      "execution_count": 0,
      "outputs": []
    },
    {
      "cell_type": "code",
      "metadata": {
        "id": "54Aef22gEjfa",
        "colab_type": "code",
        "colab": {}
      },
      "source": [
        "# sal\n",
        "sal=df.iloc[:,1:].values"
      ],
      "execution_count": 0,
      "outputs": []
    },
    {
      "cell_type": "code",
      "metadata": {
        "id": "A8T7wem4EqRI",
        "colab_type": "code",
        "colab": {}
      },
      "source": [
        "# call linaer model just for compare\n",
        "from sklearn.linear_model import LinearRegression"
      ],
      "execution_count": 0,
      "outputs": []
    },
    {
      "cell_type": "code",
      "metadata": {
        "id": "lbyPfYdCE1yK",
        "colab_type": "code",
        "colab": {}
      },
      "source": [
        "regr1=LinearRegression()"
      ],
      "execution_count": 0,
      "outputs": []
    },
    {
      "cell_type": "code",
      "metadata": {
        "id": "aA5nHLh6FC11",
        "colab_type": "code",
        "colab": {}
      },
      "source": [
        "# to transfer data we can call poly transform method\n",
        "from sklearn.preprocessing import PolynomialFeatures"
      ],
      "execution_count": 0,
      "outputs": []
    },
    {
      "cell_type": "code",
      "metadata": {
        "id": "Qp-r11BfFT5w",
        "colab_type": "code",
        "colab": {}
      },
      "source": [
        "# experience transform\n",
        "poly=PolynomialFeatures(degree=15)"
      ],
      "execution_count": 0,
      "outputs": []
    },
    {
      "cell_type": "code",
      "metadata": {
        "id": "3I7suSN7Fgwp",
        "colab_type": "code",
        "colab": {}
      },
      "source": [
        "# exp fit\n",
        "newexp=poly.fit_transform(exp)"
      ],
      "execution_count": 0,
      "outputs": []
    },
    {
      "cell_type": "code",
      "metadata": {
        "id": "L2_wXDyeFqs_",
        "colab_type": "code",
        "colab": {}
      },
      "source": [
        "# apply linear regression\n",
        "trained1=regr1.fit(exp,sal)"
      ],
      "execution_count": 0,
      "outputs": []
    },
    {
      "cell_type": "code",
      "metadata": {
        "id": "ffGsnB45F-FL",
        "colab_type": "code",
        "colab": {
          "base_uri": "https://localhost:8080/",
          "height": 283
        },
        "outputId": "60388f9a-6622-428c-b896-d5e28222dfef"
      },
      "source": [
        "# now creating linera model again\n",
        "plt.xlabel(\"exp\")\n",
        "plt.ylabel(\"sal\")\n",
        "plt.scatter(exp,sal,label=\"actual salary\")\n",
        "plt.plot(exp,trained1.predict(exp),label=\"linear model predict sal\")\n",
        "plt.legend()\n",
        "plt.show()"
      ],
      "execution_count": 35,
      "outputs": [
        {
          "output_type": "display_data",
          "data": {
            "image/png": "[encoded data removed]",
            "text/plain": [
              "<Figure size 432x288 with 1 Axes>"
            ]
          },
          "metadata": {
            "tags": []
          }
        }
      ]
    },
    {
      "cell_type": "code",
      "metadata": {
        "id": "bpTgu3sFGguY",
        "colab_type": "code",
        "colab": {}
      },
      "source": [
        "# apply new expression data in model\n",
        "regr2=LinearRegression()"
      ],
      "execution_count": 0,
      "outputs": []
    },
    {
      "cell_type": "code",
      "metadata": {
        "id": "DOG7undXHBNC",
        "colab_type": "code",
        "colab": {}
      },
      "source": [
        "# new exp data apply\n",
        "trained2=regr2.fit(newexp,sal)"
      ],
      "execution_count": 0,
      "outputs": []
    },
    {
      "cell_type": "code",
      "metadata": {
        "id": "a7JUMaNCHK6h",
        "colab_type": "code",
        "colab": {
          "base_uri": "https://localhost:8080/",
          "height": 283
        },
        "outputId": "5b1858e1-8c10-4084-c2e1-8442ea4f5274"
      },
      "source": [
        "# now creating linera model again\n",
        "plt.xlabel(\"exp\")\n",
        "plt.ylabel(\"sal\")\n",
        "plt.scatter(exp,sal,label=\"actual salary\")\n",
        "plt.plot(exp,trained2.predict(newexp),label=\"new model\")\n",
        "plt.legend()\n",
        "plt.show()"
      ],
      "execution_count": 38,
      "outputs": [
        {
          "output_type": "display_data",
          "data": {
            "image/png": "[encoded data removed]",
            "text/plain": [
              "<Figure size 432x288 with 1 Axes>"
            ]
          },
          "metadata": {
            "tags": []
          }
        }
      ]
    },
    {
      "cell_type": "code",
      "metadata": {
        "id": "l9lzv8KNHs6T",
        "colab_type": "code",
        "colab": {}
      },
      "source": [
        ""
      ],
      "execution_count": 0,
      "outputs": []
    }
  ]
}